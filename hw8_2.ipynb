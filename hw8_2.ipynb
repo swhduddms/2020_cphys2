{
  "nbformat": 4,
  "nbformat_minor": 0,
  "metadata": {
    "colab": {
      "name": "hw8_2",
      "provenance": [],
      "collapsed_sections": []
    },
    "kernelspec": {
      "name": "python3",
      "display_name": "Python 3"
    }
  },
  "cells": [
    {
      "cell_type": "code",
      "metadata": {
        "id": "CKGeE76IS8xR"
      },
      "source": [
        "from keras.datasets import fashion_mnist\n",
        "from tensorflow import keras\n",
        "from keras import models \n",
        "from keras import layers\n",
        "import numpy as np\n",
        "import matplotlib.pyplot as plt\n",
        "from keras.utils import to_categorical"
      ],
      "execution_count": 1,
      "outputs": []
    },
    {
      "cell_type": "code",
      "metadata": {
        "id": "KkmbO4CwTCxX",
        "outputId": "d2b5f50f-2bed-42dc-f310-36c49f7d0ee9",
        "colab": {
          "base_uri": "https://localhost:8080/"
        }
      },
      "source": [
        "(X, y), (X_test, y_test) = fashion_mnist.load_data()"
      ],
      "execution_count": 2,
      "outputs": [
        {
          "output_type": "stream",
          "text": [
            "Downloading data from https://storage.googleapis.com/tensorflow/tf-keras-datasets/train-labels-idx1-ubyte.gz\n",
            "32768/29515 [=================================] - 0s 0us/step\n",
            "Downloading data from https://storage.googleapis.com/tensorflow/tf-keras-datasets/train-images-idx3-ubyte.gz\n",
            "26427392/26421880 [==============================] - 0s 0us/step\n",
            "Downloading data from https://storage.googleapis.com/tensorflow/tf-keras-datasets/t10k-labels-idx1-ubyte.gz\n",
            "8192/5148 [===============================================] - 0s 0us/step\n",
            "Downloading data from https://storage.googleapis.com/tensorflow/tf-keras-datasets/t10k-images-idx3-ubyte.gz\n",
            "4423680/4422102 [==============================] - 0s 0us/step\n"
          ],
          "name": "stdout"
        }
      ]
    },
    {
      "cell_type": "code",
      "metadata": {
        "id": "Zoi1b0ovTEkT",
        "outputId": "5071d87d-55ec-4b41-e71f-02b7d11ad4c2",
        "colab": {
          "base_uri": "https://localhost:8080/"
        }
      },
      "source": [
        "print(X.shape) \n",
        "print(y.shape)\n",
        "print(X_test.shape) \n",
        "print(y_test.shape)"
      ],
      "execution_count": 3,
      "outputs": [
        {
          "output_type": "stream",
          "text": [
            "(60000, 28, 28)\n",
            "(60000,)\n",
            "(10000, 28, 28)\n",
            "(10000,)\n"
          ],
          "name": "stdout"
        }
      ]
    },
    {
      "cell_type": "code",
      "metadata": {
        "id": "5LXNijNdYVNP",
        "outputId": "1f544cc0-5c6c-48d4-ff45-57229b5f6995",
        "colab": {
          "base_uri": "https://localhost:8080/"
        }
      },
      "source": [
        "print(X.shape[0], 'train set')\n",
        "print(X_test.shape[0], 'test set')"
      ],
      "execution_count": 4,
      "outputs": [
        {
          "output_type": "stream",
          "text": [
            "60000 train set\n",
            "10000 test set\n"
          ],
          "name": "stdout"
        }
      ]
    },
    {
      "cell_type": "code",
      "metadata": {
        "id": "v8C6_tMVTL99"
      },
      "source": [
        "fashion_mnist_labels = [\"T-shirt/top\",  \n",
        "                        \"Trouser\",      \n",
        "                        \"Pullover\",     \n",
        "                        \"Dress\",        \n",
        "                        \"Coat\",         \n",
        "                        \"Sandal\",       \n",
        "                        \"Shirt\",        \n",
        "                        \"Sneaker\",      \n",
        "                        \"Bag\",          \n",
        "                        \"Ankle boot\"]"
      ],
      "execution_count": 5,
      "outputs": []
    },
    {
      "cell_type": "code",
      "metadata": {
        "id": "ZjuEpNPlUEeU"
      },
      "source": [
        "img_index = 5"
      ],
      "execution_count": 6,
      "outputs": []
    },
    {
      "cell_type": "code",
      "metadata": {
        "id": "ZMqQNZd7UKg3"
      },
      "source": [
        "label_index = y[img_index]"
      ],
      "execution_count": 7,
      "outputs": []
    },
    {
      "cell_type": "code",
      "metadata": {
        "id": "8uITOYisUNsg",
        "outputId": "dd671acc-bbe9-4421-9aa2-e5bb41695aa9",
        "colab": {
          "base_uri": "https://localhost:8080/"
        }
      },
      "source": [
        "print (\"y = \" + str(label_index) + \" \" +(fashion_mnist_labels[label_index]))"
      ],
      "execution_count": 8,
      "outputs": [
        {
          "output_type": "stream",
          "text": [
            "y = 2 Pullover\n"
          ],
          "name": "stdout"
        }
      ]
    },
    {
      "cell_type": "code",
      "metadata": {
        "id": "a5AXI3MaUQHb",
        "outputId": "021217f8-6978-4e70-e3b7-31f5eec0f82c",
        "colab": {
          "base_uri": "https://localhost:8080/",
          "height": 282
        }
      },
      "source": [
        "plt.imshow(X[img_index])"
      ],
      "execution_count": 9,
      "outputs": [
        {
          "output_type": "execute_result",
          "data": {
            "text/plain": [
              "<matplotlib.image.AxesImage at 0x7f973515ceb8>"
            ]
          },
          "metadata": {
            "tags": []
          },
          "execution_count": 9
        },
        {
          "output_type": "display_data",
          "data": {
            "image/png": "[encoded data removed]",
            "text/plain": [
              "<Figure size 432x288 with 1 Axes>"
            ]
          },
          "metadata": {
            "tags": [],
            "needs_background": "light"
          }
        }
      ]
    },
    {
      "cell_type": "code",
      "metadata": {
        "id": "tMz1y1pzUSh8"
      },
      "source": [
        "X = X.astype('float32') / 255\n",
        "X_test = X_test.astype('float32') / 255"
      ],
      "execution_count": 10,
      "outputs": []
    },
    {
      "cell_type": "code",
      "metadata": {
        "id": "MF9n2baDUd2F"
      },
      "source": [
        "(X, X_valid) = X[5000:], X[:5000]\n",
        "(y, y_valid) = y[5000:], y[:5000]"
      ],
      "execution_count": 11,
      "outputs": []
    },
    {
      "cell_type": "code",
      "metadata": {
        "id": "X88kr7y9Uqa3"
      },
      "source": [
        "w, h = 28, 28\n",
        "X = X.reshape(X.shape[0], w, h, 1)\n",
        "X_valid = X_valid.reshape(X_valid.shape[0], w, h, 1)\n",
        "X_test = X_test.reshape(X_test.shape[0], w, h, 1)"
      ],
      "execution_count": 12,
      "outputs": []
    },
    {
      "cell_type": "code",
      "metadata": {
        "id": "eYW3hSlCU-zt"
      },
      "source": [
        "y = keras.utils.to_categorical(y, 10)\n",
        "y_valid = keras.utils.to_categorical(y_valid, 10)\n",
        "y_test = keras.utils.to_categorical(y_test, 10)"
      ],
      "execution_count": 13,
      "outputs": []
    },
    {
      "cell_type": "code",
      "metadata": {
        "id": "E1M8SuSQVDte",
        "outputId": "4d5a41a9-da83-4b73-fb71-990efb0efe83",
        "colab": {
          "base_uri": "https://localhost:8080/"
        }
      },
      "source": [
        "print(\"X shape:\", X.shape, \"y shape:\", y.shape)\n",
        "print(X.shape[0], 'train set')\n",
        "print(X_valid.shape[0], 'validation set')\n",
        "print(X_test.shape[0], 'test set')"
      ],
      "execution_count": 14,
      "outputs": [
        {
          "output_type": "stream",
          "text": [
            "X shape: (55000, 28, 28, 1) y shape: (55000, 10)\n",
            "55000 train set\n",
            "5000 validation set\n",
            "10000 test set\n"
          ],
          "name": "stdout"
        }
      ]
    },
    {
      "cell_type": "code",
      "metadata": {
        "id": "bfyH_vBbVk8_",
        "outputId": "c1bfd5c6-9ee4-48aa-ec81-fd01fb99a1e5",
        "colab": {
          "base_uri": "https://localhost:8080/"
        }
      },
      "source": [
        "model = keras.Sequential()\n",
        "model.add(keras.layers.Conv2D(filters=64, kernel_size=2, padding='same', activation='relu', input_shape=(28,28,1)))\n",
        "model.add(keras.layers.MaxPooling2D(pool_size=2))\n",
        "model.add(keras.layers.Dropout(0.3))\n",
        "model.add(keras.layers.MaxPooling2D(pool_size=2))\n",
        "model.add(keras.layers.Dropout(0.3))\n",
        "\n",
        "model.add(keras.layers.Flatten()) \n",
        "model.add(keras.layers.Dense(256, activation='relu'))\n",
        "model.add(keras.layers.Dropout(0.5))\n",
        "model.add(keras.layers.Dense(10, activation='softmax'))\n",
        "\n",
        "model.summary()"
      ],
      "execution_count": 15,
      "outputs": [
        {
          "output_type": "stream",
          "text": [
            "Model: \"sequential\"\n",
            "_________________________________________________________________\n",
            "Layer (type)                 Output Shape              Param #   \n",
            "=================================================================\n",
            "conv2d (Conv2D)              (None, 28, 28, 64)        320       \n",
            "_________________________________________________________________\n",
            "max_pooling2d (MaxPooling2D) (None, 14, 14, 64)        0         \n",
            "_________________________________________________________________\n",
            "dropout (Dropout)            (None, 14, 14, 64)        0         \n",
            "_________________________________________________________________\n",
            "max_pooling2d_1 (MaxPooling2 (None, 7, 7, 64)          0         \n",
            "_________________________________________________________________\n",
            "dropout_1 (Dropout)          (None, 7, 7, 64)          0         \n",
            "_________________________________________________________________\n",
            "flatten (Flatten)            (None, 3136)              0         \n",
            "_________________________________________________________________\n",
            "dense (Dense)                (None, 256)               803072    \n",
            "_________________________________________________________________\n",
            "dropout_2 (Dropout)          (None, 256)               0         \n",
            "_________________________________________________________________\n",
            "dense_1 (Dense)              (None, 10)                2570      \n",
            "=================================================================\n",
            "Total params: 805,962\n",
            "Trainable params: 805,962\n",
            "Non-trainable params: 0\n",
            "_________________________________________________________________\n"
          ],
          "name": "stdout"
        }
      ]
    },
    {
      "cell_type": "code",
      "metadata": {
        "id": "Cj8KvVGoWcL-"
      },
      "source": [
        "model.compile(loss='categorical_crossentropy',\n",
        "             optimizer='adam',\n",
        "             metrics=['accuracy'])"
      ],
      "execution_count": 16,
      "outputs": []
    },
    {
      "cell_type": "code",
      "metadata": {
        "id": "YyhcYtn3Wgv8"
      },
      "source": [
        "from keras.callbacks import ModelCheckpoint"
      ],
      "execution_count": 17,
      "outputs": []
    },
    {
      "cell_type": "code",
      "metadata": {
        "id": "6QtfwO0UWnDJ"
      },
      "source": [
        "checkpointer = ModelCheckpoint(filepath='model.weights.best.hdf5', verbose = 1, save_best_only=True)"
      ],
      "execution_count": 18,
      "outputs": []
    },
    {
      "cell_type": "code",
      "metadata": {
        "id": "rB-wlzBBXCZn",
        "outputId": "85845c42-6a32-4933-c556-334895bdf949",
        "colab": {
          "base_uri": "https://localhost:8080/"
        }
      },
      "source": [
        "model.fit(X,\n",
        "         y,\n",
        "         batch_size=64,\n",
        "         epochs=10,\n",
        "         validation_data=(X_valid, y_valid),\n",
        "         callbacks=[checkpointer])"
      ],
      "execution_count": 19,
      "outputs": [
        {
          "output_type": "stream",
          "text": [
            "Epoch 1/10\n",
            "859/860 [============================>.] - ETA: 0s - loss: 0.5615 - accuracy: 0.7950\n",
            "Epoch 00001: val_loss improved from inf to 0.39180, saving model to model.weights.best.hdf5\n",
            "860/860 [==============================] - 55s 64ms/step - loss: 0.5615 - accuracy: 0.7950 - val_loss: 0.3918 - val_accuracy: 0.8680\n",
            "Epoch 2/10\n",
            "859/860 [============================>.] - ETA: 0s - loss: 0.3990 - accuracy: 0.8544\n",
            "Epoch 00002: val_loss improved from 0.39180 to 0.35688, saving model to model.weights.best.hdf5\n",
            "860/860 [==============================] - 54s 63ms/step - loss: 0.3990 - accuracy: 0.8544 - val_loss: 0.3569 - val_accuracy: 0.8812\n",
            "Epoch 3/10\n",
            "859/860 [============================>.] - ETA: 0s - loss: 0.3648 - accuracy: 0.8682\n",
            "Epoch 00003: val_loss improved from 0.35688 to 0.32084, saving model to model.weights.best.hdf5\n",
            "860/860 [==============================] - 54s 63ms/step - loss: 0.3648 - accuracy: 0.8682 - val_loss: 0.3208 - val_accuracy: 0.8902\n",
            "Epoch 4/10\n",
            "859/860 [============================>.] - ETA: 0s - loss: 0.3477 - accuracy: 0.8740\n",
            "Epoch 00004: val_loss improved from 0.32084 to 0.29668, saving model to model.weights.best.hdf5\n",
            "860/860 [==============================] - 54s 63ms/step - loss: 0.3476 - accuracy: 0.8740 - val_loss: 0.2967 - val_accuracy: 0.8998\n",
            "Epoch 5/10\n",
            "859/860 [============================>.] - ETA: 0s - loss: 0.3316 - accuracy: 0.8777\n",
            "Epoch 00005: val_loss did not improve from 0.29668\n",
            "860/860 [==============================] - 53s 62ms/step - loss: 0.3316 - accuracy: 0.8777 - val_loss: 0.2994 - val_accuracy: 0.8958\n",
            "Epoch 6/10\n",
            "859/860 [============================>.] - ETA: 0s - loss: 0.3171 - accuracy: 0.8827\n",
            "Epoch 00006: val_loss improved from 0.29668 to 0.29400, saving model to model.weights.best.hdf5\n",
            "860/860 [==============================] - 54s 62ms/step - loss: 0.3171 - accuracy: 0.8827 - val_loss: 0.2940 - val_accuracy: 0.8992\n",
            "Epoch 7/10\n",
            "859/860 [============================>.] - ETA: 0s - loss: 0.3148 - accuracy: 0.8856\n",
            "Epoch 00007: val_loss improved from 0.29400 to 0.28102, saving model to model.weights.best.hdf5\n",
            "860/860 [==============================] - 54s 63ms/step - loss: 0.3148 - accuracy: 0.8856 - val_loss: 0.2810 - val_accuracy: 0.9014\n",
            "Epoch 8/10\n",
            "859/860 [============================>.] - ETA: 0s - loss: 0.3037 - accuracy: 0.8880\n",
            "Epoch 00008: val_loss improved from 0.28102 to 0.28021, saving model to model.weights.best.hdf5\n",
            "860/860 [==============================] - 54s 62ms/step - loss: 0.3037 - accuracy: 0.8879 - val_loss: 0.2802 - val_accuracy: 0.8990\n",
            "Epoch 9/10\n",
            "859/860 [============================>.] - ETA: 0s - loss: 0.2963 - accuracy: 0.8895\n",
            "Epoch 00009: val_loss improved from 0.28021 to 0.27128, saving model to model.weights.best.hdf5\n",
            "860/860 [==============================] - 54s 62ms/step - loss: 0.2962 - accuracy: 0.8895 - val_loss: 0.2713 - val_accuracy: 0.9024\n",
            "Epoch 10/10\n",
            "859/860 [============================>.] - ETA: 0s - loss: 0.2921 - accuracy: 0.8917\n",
            "Epoch 00010: val_loss improved from 0.27128 to 0.25706, saving model to model.weights.best.hdf5\n",
            "860/860 [==============================] - 54s 63ms/step - loss: 0.2920 - accuracy: 0.8917 - val_loss: 0.2571 - val_accuracy: 0.9078\n"
          ],
          "name": "stdout"
        },
        {
          "output_type": "execute_result",
          "data": {
            "text/plain": [
              "<tensorflow.python.keras.callbacks.History at 0x7f972e4f77b8>"
            ]
          },
          "metadata": {
            "tags": []
          },
          "execution_count": 19
        }
      ]
    },
    {
      "cell_type": "code",
      "metadata": {
        "id": "ZQdNR6XGYnHo"
      },
      "source": [
        "model.load_weights('model.weights.best.hdf5')"
      ],
      "execution_count": 21,
      "outputs": []
    },
    {
      "cell_type": "code",
      "metadata": {
        "id": "OyW2_Pw9d5l_",
        "outputId": "4e6942d3-8cac-4ea7-9043-eca86c072c9b",
        "colab": {
          "base_uri": "https://localhost:8080/"
        }
      },
      "source": [
        "score = model.evaluate(X_test, y_test, verbose=0)\n",
        "print('\\n', 'Test accuracy:', score[1])"
      ],
      "execution_count": 22,
      "outputs": [
        {
          "output_type": "stream",
          "text": [
            "\n",
            " Test accuracy: 0.8986999988555908\n"
          ],
          "name": "stdout"
        }
      ]
    },
    {
      "cell_type": "code",
      "metadata": {
        "id": "cehegnYWL7yW",
        "outputId": "9a829cd0-2891-4371-e165-09ea3400a776",
        "colab": {
          "base_uri": "https://localhost:8080/",
          "height": 485
        }
      },
      "source": [
        "y_hat = model.predict(X_test)\n",
        "\n",
        "figure = plt.figure(figsize=(20, 8))\n",
        "for i, index in enumerate(np.random.choice(X_test.shape[0], size=15, replace=False)):\n",
        "    ax = figure.add_subplot(3, 5, i + 1, Xticks=[], yticks=[])\n",
        "    ax.imshow(np.squeeze(X_test[index]))\n",
        "    predict_index = np.argmax(y_hat[index])\n",
        "    true_index = np.argmax(y_test[index])\n",
        "    ax.set_title(\"{} ({})\".format(fashion_mnist_labels[predict_index],\n",
        "                                  fashion_mnist_labels[true_index]),\n",
        "                                  color=(\"blue\" if predict_index == true_index else \"red\"))"
      ],
      "execution_count": 25,
      "outputs": [
        {
          "output_type": "display_data",
          "data": {
            "image/png": "[encoded data removed]",
            "text/plain": [
              "<Figure size 1440x576 with 15 Axes>"
            ]
          },
          "metadata": {
            "tags": []
          }
        }
      ]
    },
    {
      "cell_type": "code",
      "metadata": {
        "id": "0u_vOyp4M3Bh"
      },
      "source": [
        ""
      ],
      "execution_count": null,
      "outputs": []
    }
  ]
}