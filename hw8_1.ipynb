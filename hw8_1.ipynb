{
  "nbformat": 4,
  "nbformat_minor": 0,
  "metadata": {
    "colab": {
      "name": "hw8_1.ipynb",
      "provenance": [],
      "collapsed_sections": []
    },
    "kernelspec": {
      "name": "python3",
      "display_name": "Python 3"
    }
  },
  "cells": [
    {
      "cell_type": "markdown",
      "metadata": {
        "id": "RmFQv0WvhUJm"
      },
      "source": [
        ""
      ]
    },
    {
      "cell_type": "code",
      "metadata": {
        "id": "j-v_Xy7GhURY"
      },
      "source": [
        "from keras.datasets import mnist\n",
        "from tensorflow import keras\n",
        "from keras import models \n",
        "from keras import layers\n",
        "from keras import Sequential\n",
        "from keras.layers import Dense, Activation\n",
        "import numpy as np\n",
        "import matplotlib.pyplot as plt\n",
        "from keras.utils import to_categorical\n",
        "\n",
        "(X, y), (X_test, y_test) = mnist.load_data()"
      ],
      "execution_count": 9,
      "outputs": []
    },
    {
      "cell_type": "code",
      "metadata": {
        "id": "-dBa3KDOhUvV",
        "outputId": "c6b5caef-5f8c-46de-d2ad-cdf7498ab5e0",
        "colab": {
          "base_uri": "https://localhost:8080/"
        }
      },
      "source": [
        "print(X.shape) \n",
        "print(y.shape)\n",
        "print(X_test.shape) \n",
        "print(y_test.shape)\n"
      ],
      "execution_count": 10,
      "outputs": [
        {
          "output_type": "stream",
          "text": [
            "(60000, 28, 28)\n",
            "(60000,)\n",
            "(10000, 28, 28)\n",
            "(10000,)\n"
          ],
          "name": "stdout"
        }
      ]
    },
    {
      "cell_type": "code",
      "metadata": {
        "id": "vZubFbV5hb2B"
      },
      "source": [
        "X = X.reshape(60000, 784).astype('float32') / 255.0"
      ],
      "execution_count": 11,
      "outputs": []
    },
    {
      "cell_type": "code",
      "metadata": {
        "id": "ErAXnqrhiCc2"
      },
      "source": [
        "X_test = X_test.reshape(10000, 784).astype('float32') / 255.0"
      ],
      "execution_count": 12,
      "outputs": []
    },
    {
      "cell_type": "code",
      "metadata": {
        "id": "AwWH0aL2iFUw"
      },
      "source": [
        "y = keras.utils.to_categorical(y)\n",
        "y_test = keras.utils.to_categorical(y_test)"
      ],
      "execution_count": 13,
      "outputs": []
    },
    {
      "cell_type": "code",
      "metadata": {
        "id": "Yh9yUtH8iMX0"
      },
      "source": [
        "model = Sequential()"
      ],
      "execution_count": 14,
      "outputs": []
    },
    {
      "cell_type": "code",
      "metadata": {
        "id": "9m79KLxjiczf"
      },
      "source": [
        "model.add(Dense(input_dim=784, activation=\"relu\", units=64)) "
      ],
      "execution_count": 15,
      "outputs": []
    },
    {
      "cell_type": "code",
      "metadata": {
        "id": "1ozGmqv7ifbF"
      },
      "source": [
        "model.add(Dense(activation=\"softmax\", units=10))"
      ],
      "execution_count": 16,
      "outputs": []
    },
    {
      "cell_type": "code",
      "metadata": {
        "id": "QQt_HKT-i9tC"
      },
      "source": [
        "model.compile(loss='categorical_crossentropy', optimizer='sgd', metrics=['accuracy'])"
      ],
      "execution_count": 17,
      "outputs": []
    },
    {
      "cell_type": "code",
      "metadata": {
        "id": "uv_0TPgTjELT",
        "outputId": "16ed29b4-97da-4b3c-9058-569c19c8539c",
        "colab": {
          "base_uri": "https://localhost:8080/"
        }
      },
      "source": [
        "model.fit(X, y, epochs=5, batch_size=32)"
      ],
      "execution_count": 18,
      "outputs": [
        {
          "output_type": "stream",
          "text": [
            "Epoch 1/5\n",
            "1875/1875 [==============================] - 2s 1ms/step - loss: 0.6797 - accuracy: 0.8262\n",
            "Epoch 2/5\n",
            "1875/1875 [==============================] - 2s 1ms/step - loss: 0.3508 - accuracy: 0.9015\n",
            "Epoch 3/5\n",
            "1875/1875 [==============================] - 2s 1ms/step - loss: 0.3052 - accuracy: 0.9133\n",
            "Epoch 4/5\n",
            "1875/1875 [==============================] - 2s 1ms/step - loss: 0.2774 - accuracy: 0.9221\n",
            "Epoch 5/5\n",
            "1875/1875 [==============================] - 2s 1ms/step - loss: 0.2557 - accuracy: 0.9282\n"
          ],
          "name": "stdout"
        },
        {
          "output_type": "execute_result",
          "data": {
            "text/plain": [
              "<tensorflow.python.keras.callbacks.History at 0x7f6c56ad6630>"
            ]
          },
          "metadata": {
            "tags": []
          },
          "execution_count": 18
        }
      ]
    },
    {
      "cell_type": "code",
      "metadata": {
        "id": "b7Wcs_qEjL0U",
        "outputId": "0a953ad9-3ffa-4976-b777-32a848e714e7",
        "colab": {
          "base_uri": "https://localhost:8080/"
        }
      },
      "source": [
        "loss_and_metrics = model.evaluate(X_test, y_test, batch_size=32)"
      ],
      "execution_count": 19,
      "outputs": [
        {
          "output_type": "stream",
          "text": [
            "313/313 [==============================] - 0s 892us/step - loss: 0.2404 - accuracy: 0.9316\n"
          ],
          "name": "stdout"
        }
      ]
    },
    {
      "cell_type": "code",
      "metadata": {
        "id": "2r57Y2kqjT6L",
        "outputId": "a83224e7-2106-4753-92bf-4563706eddaf",
        "colab": {
          "base_uri": "https://localhost:8080/"
        }
      },
      "source": [
        "print(\"손실 및 정확도:\", str(loss_and_metrics ))"
      ],
      "execution_count": 20,
      "outputs": [
        {
          "output_type": "stream",
          "text": [
            "손실 및 정확도: [0.2404162585735321, 0.9315999746322632]\n"
          ],
          "name": "stdout"
        }
      ]
    },
    {
      "cell_type": "code",
      "metadata": {
        "id": "y69MoBbVjXgj",
        "outputId": "73bd409f-cfe1-4bed-e2b7-46e90927d8d0",
        "colab": {
          "base_uri": "https://localhost:8080/"
        }
      },
      "source": [
        "a = X_test[0:1]                \n",
        "b = model.predict_classes(a)  \n",
        "print(\"결과: \")\n",
        "print(b)\n",
        "b = model.predict(a)              \n",
        "print(\"각 숫자에 대한 가능성:\")\n",
        "print(b)"
      ],
      "execution_count": 21,
      "outputs": [
        {
          "output_type": "stream",
          "text": [
            "WARNING:tensorflow:From <ipython-input-21-19dc13f37835>:2: Sequential.predict_classes (from tensorflow.python.keras.engine.sequential) is deprecated and will be removed after 2021-01-01.\n",
            "Instructions for updating:\n",
            "Please use instead:* `np.argmax(model.predict(x), axis=-1)`,   if your model does multi-class classification   (e.g. if it uses a `softmax` last-layer activation).* `(model.predict(x) > 0.5).astype(\"int32\")`,   if your model does binary classification   (e.g. if it uses a `sigmoid` last-layer activation).\n",
            "결과: \n",
            "[7]\n",
            "각 숫자에 대한 가능성:\n",
            "[[9.12740943e-05 2.95975667e-07 1.81920201e-04 1.93116558e-03\n",
            "  6.90024126e-06 7.27128208e-05 1.07893314e-07 9.96702731e-01\n",
            "  6.43604290e-05 9.48689179e-04]]\n"
          ],
          "name": "stdout"
        }
      ]
    },
    {
      "cell_type": "code",
      "metadata": {
        "id": "A5DU6bRwjqEZ",
        "outputId": "5c316ee3-88e1-499b-95e2-01b88c4bb835",
        "colab": {
          "base_uri": "https://localhost:8080/",
          "height": 268
        }
      },
      "source": [
        "fig = plt.figure()  \n",
        "\n",
        "for i in range(1, 5):   \n",
        "    subplot = fig.add_subplot(2, 2, i)\n",
        "    subplot.set_xticks([])\n",
        "    subplot.set_yticks([])\n",
        "    subplot.set_title('image')  \n",
        "    subplot.imshow(X_test[i-1].reshape((28,28)), cmap=plt.cm.gray_r)\n",
        "\n",
        "plt.show()"
      ],
      "execution_count": 22,
      "outputs": [
        {
          "output_type": "display_data",
          "data": {
            "image/png": "[encoded data removed]",
            "text/plain": [
              "<Figure size 432x288 with 4 Axes>"
            ]
          },
          "metadata": {
            "tags": []
          }
        }
      ]
    },
    {
      "cell_type": "code",
      "metadata": {
        "id": "cvz5VhmVm1O1"
      },
      "source": [
        ""
      ],
      "execution_count": null,
      "outputs": []
    }
  ]
}