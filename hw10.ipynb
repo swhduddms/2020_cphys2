{
  "nbformat": 4,
  "nbformat_minor": 0,
  "metadata": {
    "colab": {
      "name": "hw10.ipynb",
      "provenance": [],
      "collapsed_sections": []
    },
    "kernelspec": {
      "name": "python3",
      "display_name": "Python 3"
    }
  },
  "cells": [
    {
      "cell_type": "code",
      "metadata": {
        "id": "TrM8yKtuP8uw"
      },
      "source": [
        "from tensorflow import keras\n",
        "from keras import models \n",
        "from keras import layers\n",
        "import numpy as np\n",
        "import matplotlib.pyplot as plt\n",
        "from keras.utils import to_categorical\n",
        "from keras.datasets import fashion_mnist"
      ],
      "execution_count": null,
      "outputs": []
    },
    {
      "cell_type": "code",
      "metadata": {
        "id": "NLatVpefQASZ"
      },
      "source": [
        "(X_train, y_train), (X_test, y_test) = fashion_mnist.load_data()"
      ],
      "execution_count": null,
      "outputs": []
    },
    {
      "cell_type": "code",
      "metadata": {
        "id": "mb7sfYKvQMZc"
      },
      "source": [
        "X_train = X_train.reshape((60000, 28, 28, 1))\n",
        "X_train = X_train/255\n",
        "\n",
        "X_test = X_test.reshape((10000, 28, 28, 1))\n",
        "X_test = X_test/255\n",
        "\n",
        "y_train=to_categorical(y_train)\n",
        "y_test=to_categorical(y_test)"
      ],
      "execution_count": null,
      "outputs": []
    },
    {
      "cell_type": "code",
      "metadata": {
        "id": "dGt-1taQQWKH"
      },
      "source": [
        "net = models.Sequential()\n",
        "net.add(layers.Conv2D(32,(3,3), activation='relu', input_shape=(28,28,1)))\n",
        "net.add(layers.MaxPooling2D((2,2)))\n",
        "net.add(layers.Conv2D(64,(3,3), activation='relu')) \n",
        "net.add(layers.MaxPooling2D((2,2)))\n",
        "net.add(layers.Conv2D(64,(3,3), activation='relu'))\n",
        "net.add(layers.Flatten())\n",
        "net.add(layers.Dense(64, activation='relu')) \n",
        "net.add(layers.Dense(10, activation='softmax')) \n",
        "net.compile(optimizer='nadam',loss='categorical_crossentropy',metrics=['acc'])"
      ],
      "execution_count": null,
      "outputs": []
    },
    {
      "cell_type": "code",
      "metadata": {
        "id": "21ecq30dRwaO",
        "outputId": "1900534f-e110-4b47-e378-332de9ebd38d",
        "colab": {
          "base_uri": "https://localhost:8080/"
        }
      },
      "source": [
        "net.summary()"
      ],
      "execution_count": null,
      "outputs": [
        {
          "output_type": "stream",
          "text": [
            "Model: \"sequential_2\"\n",
            "_________________________________________________________________\n",
            "Layer (type)                 Output Shape              Param #   \n",
            "=================================================================\n",
            "conv2d_6 (Conv2D)            (None, 26, 26, 32)        320       \n",
            "_________________________________________________________________\n",
            "max_pooling2d_4 (MaxPooling2 (None, 13, 13, 32)        0         \n",
            "_________________________________________________________________\n",
            "conv2d_7 (Conv2D)            (None, 11, 11, 64)        18496     \n",
            "_________________________________________________________________\n",
            "max_pooling2d_5 (MaxPooling2 (None, 5, 5, 64)          0         \n",
            "_________________________________________________________________\n",
            "conv2d_8 (Conv2D)            (None, 3, 3, 64)          36928     \n",
            "_________________________________________________________________\n",
            "flatten_2 (Flatten)          (None, 576)               0         \n",
            "_________________________________________________________________\n",
            "dense_4 (Dense)              (None, 64)                36928     \n",
            "_________________________________________________________________\n",
            "dense_5 (Dense)              (None, 10)                650       \n",
            "=================================================================\n",
            "Total params: 93,322\n",
            "Trainable params: 93,322\n",
            "Non-trainable params: 0\n",
            "_________________________________________________________________\n"
          ],
          "name": "stdout"
        }
      ]
    },
    {
      "cell_type": "code",
      "metadata": {
        "id": "Q6SsTkKAR0hQ",
        "outputId": "8b86dabf-9758-465c-f694-ec3870d2862c",
        "colab": {
          "base_uri": "https://localhost:8080/"
        }
      },
      "source": [
        "net.fit(X_train, y_train, epochs=5, batch_size=64)"
      ],
      "execution_count": null,
      "outputs": [
        {
          "output_type": "stream",
          "text": [
            "Epoch 1/5\n",
            "938/938 [==============================] - 53s 56ms/step - loss: 0.5371 - acc: 0.8028\n",
            "Epoch 2/5\n",
            "938/938 [==============================] - 48s 51ms/step - loss: 0.3284 - acc: 0.8810\n",
            "Epoch 3/5\n",
            "938/938 [==============================] - 48s 51ms/step - loss: 0.2776 - acc: 0.8995\n",
            "Epoch 4/5\n",
            "938/938 [==============================] - 47s 51ms/step - loss: 0.2467 - acc: 0.9098\n",
            "Epoch 5/5\n",
            "938/938 [==============================] - 48s 51ms/step - loss: 0.2219 - acc: 0.9183\n"
          ],
          "name": "stdout"
        },
        {
          "output_type": "execute_result",
          "data": {
            "text/plain": [
              "<tensorflow.python.keras.callbacks.History at 0x7f50e7d31748>"
            ]
          },
          "metadata": {
            "tags": []
          },
          "execution_count": 21
        }
      ]
    },
    {
      "cell_type": "code",
      "metadata": {
        "id": "YxgJdhOpR-_K",
        "outputId": "0c47043e-20d3-4b70-ebf6-bfc7bb1a4dec",
        "colab": {
          "base_uri": "https://localhost:8080/"
        }
      },
      "source": [
        "test_loss, test_acc = net.evaluate(X_test,y_test)"
      ],
      "execution_count": null,
      "outputs": [
        {
          "output_type": "stream",
          "text": [
            "313/313 [==============================] - 3s 9ms/step - loss: 0.2611 - acc: 0.9050\n"
          ],
          "name": "stdout"
        }
      ]
    },
    {
      "cell_type": "code",
      "metadata": {
        "id": "EcwkF9mATYoD"
      },
      "source": [
        "#MLP와 비교 : MLP에 비해 CNN으로 했을 때 정확도가 조금 더 높다. (MLP : 87.6%, CNN : 90.5%)"
      ],
      "execution_count": null,
      "outputs": []
    }
  ]
}