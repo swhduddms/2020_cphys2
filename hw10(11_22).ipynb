{
  "nbformat": 4,
  "nbformat_minor": 0,
  "metadata": {
    "colab": {
      "name": "hw10(11.22).ipynb",
      "provenance": [],
      "collapsed_sections": []
    },
    "kernelspec": {
      "name": "python3",
      "display_name": "Python 3"
    }
  },
  "cells": [
    {
      "cell_type": "markdown",
      "metadata": {
        "id": "Zr2mPx8o_SX1"
      },
      "source": [
        "지난 주차 과제가 hw9였는데 파일명을 hw10이라고 잘못 제출해서 이번 주차 과제를 hw10(11.22)라고 제출합니다!"
      ]
    },
    {
      "cell_type": "markdown",
      "metadata": {
        "id": "fbo8ct4l_mzr"
      },
      "source": [
        "**IMDB Datasets**"
      ]
    },
    {
      "cell_type": "code",
      "metadata": {
        "id": "Zp2qsoie2fRd"
      },
      "source": [
        "#IMDB Datasets\n",
        "\n",
        "import numpy as np\n",
        "from tensorflow import keras\n",
        "from keras import models \n",
        "from keras import layers\n",
        "import matplotlib.pyplot as plt\n",
        "from keras.datasets import imdb\n",
        "\n",
        "(X, y_train), (X_test, y_test) = imdb.load_data(num_words=10000)"
      ],
      "execution_count": 1,
      "outputs": []
    },
    {
      "cell_type": "code",
      "metadata": {
        "id": "ooCI9Y7t34NY"
      },
      "source": [
        "def vect(seq, dim=10000):\n",
        "  x=np.zeros((len(seq),dim))\n",
        "  for n, i in enumerate(seq):\n",
        "    x[n,i] = 1\n",
        "    return x\n",
        "\n",
        "X_train=vect(X)\n",
        "X_test=vect(X_test)"
      ],
      "execution_count": 2,
      "outputs": []
    },
    {
      "cell_type": "code",
      "metadata": {
        "colab": {
          "base_uri": "https://localhost:8080/"
        },
        "id": "4YlXgTNQ6U6X",
        "outputId": "b0e39e61-dab1-4426-dfb8-a8d53074fc96"
      },
      "source": [
        "X_train[0]"
      ],
      "execution_count": 3,
      "outputs": [
        {
          "output_type": "execute_result",
          "data": {
            "text/plain": [
              "array([0., 1., 1., ..., 0., 0., 0.])"
            ]
          },
          "metadata": {
            "tags": []
          },
          "execution_count": 3
        }
      ]
    },
    {
      "cell_type": "code",
      "metadata": {
        "colab": {
          "base_uri": "https://localhost:8080/"
        },
        "id": "NKhj-Bvb6dKf",
        "outputId": "fa7177cd-426d-4328-a62c-ffd39f7a10c5"
      },
      "source": [
        "net = models.Sequential()\n",
        "net.add(layers.Dense(16, activation='relu', input_shape=(10000,)))\n",
        "net.add(layers.Dropout(0.5))\n",
        "net.add(layers.Dense(16, activation='relu'))\n",
        "net.add(layers.Dropout(0.5))\n",
        "net.add(layers.Dense(1, activation='sigmoid'))\n",
        "net.compile(optimizer='nadam', loss='binary_crossentropy', metrics = ['acc'])\n",
        "\n",
        "X_val = X_train[:10000]\n",
        "partial_X_train = X_train[10000:]\n",
        "\n",
        "y_val = y_train[:10000]\n",
        "partial_y_train = y_train[10000:]\n",
        "\n",
        "val = net.fit(partial_X_train, partial_y_train, epochs=5, batch_size=128, validation_data=(X_val, y_val))"
      ],
      "execution_count": 4,
      "outputs": [
        {
          "output_type": "stream",
          "text": [
            "Epoch 1/5\n",
            "118/118 [==============================] - 2s 18ms/step - loss: 0.6931 - acc: 0.4953 - val_loss: 0.6932 - val_acc: 0.4948\n",
            "Epoch 2/5\n",
            "118/118 [==============================] - 1s 11ms/step - loss: 0.6931 - acc: 0.5035 - val_loss: 0.6932 - val_acc: 0.4948\n",
            "Epoch 3/5\n",
            "118/118 [==============================] - 1s 11ms/step - loss: 0.6932 - acc: 0.5035 - val_loss: 0.6932 - val_acc: 0.4948\n",
            "Epoch 4/5\n",
            "118/118 [==============================] - 1s 11ms/step - loss: 0.6931 - acc: 0.5035 - val_loss: 0.6932 - val_acc: 0.4948\n",
            "Epoch 5/5\n",
            "118/118 [==============================] - 1s 11ms/step - loss: 0.6931 - acc: 0.5035 - val_loss: 0.6932 - val_acc: 0.4948\n"
          ],
          "name": "stdout"
        }
      ]
    },
    {
      "cell_type": "code",
      "metadata": {
        "colab": {
          "base_uri": "https://localhost:8080/",
          "height": 282
        },
        "id": "mgZLEC9s6nQV",
        "outputId": "cf761831-9fd3-4293-99fa-a60b79b05624"
      },
      "source": [
        "val_dict = val.history\n",
        "loss = val_dict['loss']\n",
        "val_loss = val_dict['val_loss']\n",
        "x = np.arange(0,len(loss))\n",
        "\n",
        "plt.plot(x,loss,'-')\n",
        "plt.plot(x,val_loss,'o')"
      ],
      "execution_count": 5,
      "outputs": [
        {
          "output_type": "execute_result",
          "data": {
            "text/plain": [
              "[<matplotlib.lines.Line2D at 0x7f581e23eb70>]"
            ]
          },
          "metadata": {
            "tags": []
          },
          "execution_count": 5
        },
        {
          "output_type": "display_data",
          "data": {
            "image/png": "[encoded data removed]",
            "text/plain": [
              "<Figure size 432x288 with 1 Axes>"
            ]
          },
          "metadata": {
            "tags": [],
            "needs_background": "light"
          }
        }
      ]
    },
    {
      "cell_type": "code",
      "metadata": {
        "colab": {
          "base_uri": "https://localhost:8080/"
        },
        "id": "qqkEtgwX8qRJ",
        "outputId": "b10224c6-a69e-4b37-a06b-ce34194cd1b4"
      },
      "source": [
        "test_loss, test_acc = net.evaluate(X_test,y_test)"
      ],
      "execution_count": 6,
      "outputs": [
        {
          "output_type": "stream",
          "text": [
            "782/782 [==============================] - 1s 1ms/step - loss: 0.6932 - acc: 0.5000\n"
          ],
          "name": "stdout"
        }
      ]
    },
    {
      "cell_type": "code",
      "metadata": {
        "id": "Bzt0KYsc8z6u"
      },
      "source": [
        ""
      ],
      "execution_count": 6,
      "outputs": []
    },
    {
      "cell_type": "markdown",
      "metadata": {
        "id": "RS4QcKRM_iLY"
      },
      "source": [
        "IMDB Classification using simple RNN"
      ]
    },
    {
      "cell_type": "code",
      "metadata": {
        "id": "RyBHW3Tn_luQ"
      },
      "source": [
        "from keras.preprocessing import sequence\n",
        "\n",
        "max_words=10000 \n",
        "(X_train, y_train), (X_test, y_test) = imdb.load_data(num_words=max_words)\n",
        "\n",
        "maxlen = 100\n",
        "X_train = sequence.pad_sequences(X_train, maxlen=maxlen)\n",
        "X_test = sequence.pad_sequences(X_test, maxlen=maxlen)"
      ],
      "execution_count": 21,
      "outputs": []
    },
    {
      "cell_type": "code",
      "metadata": {
        "colab": {
          "base_uri": "https://localhost:8080/"
        },
        "id": "BKT2ilq-AOR4",
        "outputId": "37321222-51e8-436b-a6d4-2144764e135d"
      },
      "source": [
        "X_train[0]"
      ],
      "execution_count": 22,
      "outputs": [
        {
          "output_type": "execute_result",
          "data": {
            "text/plain": [
              "array([1415,   33,    6,   22,   12,  215,   28,   77,   52,    5,   14,\n",
              "        407,   16,   82,    2,    8,    4,  107,  117, 5952,   15,  256,\n",
              "          4,    2,    7, 3766,    5,  723,   36,   71,   43,  530,  476,\n",
              "         26,  400,  317,   46,    7,    4,    2, 1029,   13,  104,   88,\n",
              "          4,  381,   15,  297,   98,   32, 2071,   56,   26,  141,    6,\n",
              "        194, 7486,   18,    4,  226,   22,   21,  134,  476,   26,  480,\n",
              "          5,  144,   30, 5535,   18,   51,   36,   28,  224,   92,   25,\n",
              "        104,    4,  226,   65,   16,   38, 1334,   88,   12,   16,  283,\n",
              "          5,   16, 4472,  113,  103,   32,   15,   16, 5345,   19,  178,\n",
              "         32], dtype=int32)"
            ]
          },
          "metadata": {
            "tags": []
          },
          "execution_count": 22
        }
      ]
    },
    {
      "cell_type": "code",
      "metadata": {
        "id": "XtZRFbd7AtvW"
      },
      "source": [
        "rnn = models.Sequential()\n",
        "rnn.add(layers.Embedding(max_words,16))\n",
        "rnn.add(layers.SimpleRNN(32,return_sequences='True'))\n",
        "rnn.add(layers.Dropout(0.2))\n",
        "rnn.add(layers.SimpleRNN(32))\n",
        "rnn.add(layers.Dropout(0.2))\n",
        "rnn.add(layers.Dense(1))\n",
        "rnn.compile(optimizer='nadam',loss='mse')"
      ],
      "execution_count": 23,
      "outputs": []
    },
    {
      "cell_type": "code",
      "metadata": {
        "colab": {
          "base_uri": "https://localhost:8080/"
        },
        "id": "UC5FJ-IkA8MS",
        "outputId": "6741a084-0dc5-4621-e134-cb3e4fa450f0"
      },
      "source": [
        "rnn.summary()"
      ],
      "execution_count": 24,
      "outputs": [
        {
          "output_type": "stream",
          "text": [
            "Model: \"sequential_3\"\n",
            "_________________________________________________________________\n",
            "Layer (type)                 Output Shape              Param #   \n",
            "=================================================================\n",
            "embedding_2 (Embedding)      (None, None, 16)          160000    \n",
            "_________________________________________________________________\n",
            "simple_rnn_3 (SimpleRNN)     (None, None, 32)          1568      \n",
            "_________________________________________________________________\n",
            "dropout_5 (Dropout)          (None, None, 32)          0         \n",
            "_________________________________________________________________\n",
            "simple_rnn_4 (SimpleRNN)     (None, 32)                2080      \n",
            "_________________________________________________________________\n",
            "dropout_6 (Dropout)          (None, 32)                0         \n",
            "_________________________________________________________________\n",
            "dense_5 (Dense)              (None, 1)                 33        \n",
            "=================================================================\n",
            "Total params: 163,681\n",
            "Trainable params: 163,681\n",
            "Non-trainable params: 0\n",
            "_________________________________________________________________\n"
          ],
          "name": "stdout"
        }
      ]
    },
    {
      "cell_type": "code",
      "metadata": {
        "colab": {
          "base_uri": "https://localhost:8080/"
        },
        "id": "BVhxcJD7KyBa",
        "outputId": "c196690f-d3bf-4f86-c1b9-63f0ec6e97d8"
      },
      "source": [
        "history=rnn.fit(X_train,y_train,epochs=30,verbose=1,validation_split=0.2)"
      ],
      "execution_count": 26,
      "outputs": [
        {
          "output_type": "stream",
          "text": [
            "Epoch 1/30\n",
            "625/625 [==============================] - 22s 35ms/step - loss: 0.2327 - val_loss: 0.1311\n",
            "Epoch 2/30\n",
            "625/625 [==============================] - 22s 35ms/step - loss: 0.1194 - val_loss: 0.1254\n",
            "Epoch 3/30\n",
            "625/625 [==============================] - 21s 34ms/step - loss: 0.0892 - val_loss: 0.1230\n",
            "Epoch 4/30\n",
            "625/625 [==============================] - 22s 35ms/step - loss: 0.0696 - val_loss: 0.1277\n",
            "Epoch 5/30\n",
            "625/625 [==============================] - 22s 35ms/step - loss: 0.0518 - val_loss: 0.1376\n",
            "Epoch 6/30\n",
            "625/625 [==============================] - 22s 34ms/step - loss: 0.0382 - val_loss: 0.1423\n",
            "Epoch 7/30\n",
            "625/625 [==============================] - 22s 35ms/step - loss: 0.0287 - val_loss: 0.1511\n",
            "Epoch 8/30\n",
            "625/625 [==============================] - 22s 35ms/step - loss: 0.0211 - val_loss: 0.1520\n",
            "Epoch 9/30\n",
            "625/625 [==============================] - 22s 35ms/step - loss: 0.0184 - val_loss: 0.1551\n",
            "Epoch 10/30\n",
            "625/625 [==============================] - 23s 36ms/step - loss: 0.0185 - val_loss: 0.1689\n",
            "Epoch 11/30\n",
            "625/625 [==============================] - 22s 35ms/step - loss: 0.0152 - val_loss: 0.1654\n",
            "Epoch 12/30\n",
            "625/625 [==============================] - 22s 35ms/step - loss: 0.0143 - val_loss: 0.1606\n",
            "Epoch 13/30\n",
            "625/625 [==============================] - 22s 35ms/step - loss: 0.0133 - val_loss: 0.1692\n",
            "Epoch 14/30\n",
            "625/625 [==============================] - 22s 34ms/step - loss: 0.0128 - val_loss: 0.1781\n",
            "Epoch 15/30\n",
            "625/625 [==============================] - 22s 35ms/step - loss: 0.0123 - val_loss: 0.1885\n",
            "Epoch 16/30\n",
            "625/625 [==============================] - 22s 35ms/step - loss: 0.0121 - val_loss: 0.1708\n",
            "Epoch 17/30\n",
            "625/625 [==============================] - 22s 35ms/step - loss: 0.0097 - val_loss: 0.1688\n",
            "Epoch 18/30\n",
            "625/625 [==============================] - 22s 35ms/step - loss: 0.0108 - val_loss: 0.1736\n",
            "Epoch 19/30\n",
            "625/625 [==============================] - 22s 35ms/step - loss: 0.0094 - val_loss: 0.2143\n",
            "Epoch 20/30\n",
            "625/625 [==============================] - 22s 34ms/step - loss: 0.0103 - val_loss: 0.1800\n",
            "Epoch 21/30\n",
            "625/625 [==============================] - 22s 36ms/step - loss: 0.0092 - val_loss: 0.1917\n",
            "Epoch 22/30\n",
            "625/625 [==============================] - 22s 35ms/step - loss: 0.0091 - val_loss: 0.1780\n",
            "Epoch 23/30\n",
            "625/625 [==============================] - 22s 35ms/step - loss: 0.0138 - val_loss: 0.1892\n",
            "Epoch 24/30\n",
            "625/625 [==============================] - 22s 35ms/step - loss: 0.0114 - val_loss: 0.1918\n",
            "Epoch 25/30\n",
            "625/625 [==============================] - 22s 35ms/step - loss: 0.0082 - val_loss: 0.1701\n",
            "Epoch 26/30\n",
            "625/625 [==============================] - 21s 34ms/step - loss: 0.0086 - val_loss: 0.1653\n",
            "Epoch 27/30\n",
            "625/625 [==============================] - 22s 35ms/step - loss: 0.0120 - val_loss: 0.2445\n",
            "Epoch 28/30\n",
            "625/625 [==============================] - 22s 35ms/step - loss: 0.0121 - val_loss: 0.1762\n",
            "Epoch 29/30\n",
            "625/625 [==============================] - 22s 36ms/step - loss: 0.0072 - val_loss: 0.1839\n",
            "Epoch 30/30\n",
            "625/625 [==============================] - 22s 34ms/step - loss: 0.0100 - val_loss: 0.1771\n"
          ],
          "name": "stdout"
        }
      ]
    },
    {
      "cell_type": "code",
      "metadata": {
        "colab": {
          "base_uri": "https://localhost:8080/",
          "height": 282
        },
        "id": "9MDtHt8AK04u",
        "outputId": "c03491ad-e168-4a5c-b855-e44f40c4de5c"
      },
      "source": [
        "loss=history.history['loss']\n",
        "val=history.history['val_loss']\n",
        "plt.plot(loss)\n",
        "plt.plot(val,'o')"
      ],
      "execution_count": 27,
      "outputs": [
        {
          "output_type": "execute_result",
          "data": {
            "text/plain": [
              "[<matplotlib.lines.Line2D at 0x7f5810f76860>]"
            ]
          },
          "metadata": {
            "tags": []
          },
          "execution_count": 27
        },
        {
          "output_type": "display_data",
          "data": {
            "image/png": "[encoded data removed]",
            "text/plain": [
              "<Figure size 432x288 with 1 Axes>"
            ]
          },
          "metadata": {
            "tags": [],
            "needs_background": "light"
          }
        }
      ]
    },
    {
      "cell_type": "code",
      "metadata": {
        "colab": {
          "base_uri": "https://localhost:8080/"
        },
        "id": "3d0tIRnXDIeZ",
        "outputId": "7df84094-a90e-4782-e917-31529280a2cd"
      },
      "source": [
        "  print(rnn.predict(X_train))"
      ],
      "execution_count": 40,
      "outputs": [
        {
          "output_type": "stream",
          "text": [
            "[[0.9802931 ]\n",
            " [0.05136767]\n",
            " [0.02640399]\n",
            " ...\n",
            " [0.01403308]\n",
            " [0.98924446]\n",
            " [0.6215755 ]]\n"
          ],
          "name": "stdout"
        }
      ]
    },
    {
      "cell_type": "code",
      "metadata": {
        "id": "BkSS_e3QVcRu"
      },
      "source": [
        ""
      ],
      "execution_count": null,
      "outputs": []
    }
  ]
}